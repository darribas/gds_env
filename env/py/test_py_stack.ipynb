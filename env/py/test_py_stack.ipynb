{
 "cells": [
  {
   "cell_type": "markdown",
   "id": "b57b79ce-b01e-45c5-bdec-5fdf759f057e",
   "metadata": {
    "tags": []
   },
   "source": [
    "## Library tests"
   ]
  },
  {
   "cell_type": "code",
   "execution_count": null,
   "id": "c7d1f9ba-b1e1-4a6e-b70e-6e353a1171e8",
   "metadata": {
    "tags": []
   },
   "outputs": [],
   "source": [
    "# Run full suite of tests\n",
    "! pytest --pyargs geopandas"
   ]
  },
  {
   "cell_type": "code",
   "execution_count": null,
   "id": "3566186e-1e43-43fc-99ca-b74418061ab3",
   "metadata": {
    "tags": []
   },
   "outputs": [],
   "source": [
    "# Run full suite of tests\n",
    "! pytest --pyargs xarray"
   ]
  },
  {
   "cell_type": "code",
   "execution_count": null,
   "id": "3c2202b1-2e3f-4a17-9f4e-917ba60516d9",
   "metadata": {},
   "outputs": [],
   "source": [
    "# Run full suite of tests\n",
    "! pytest --pyargs sklearn"
   ]
  }
 ],
 "metadata": {
  "kernelspec": {
   "display_name": "Python 3 (ipykernel)",
   "language": "python",
   "name": "python3"
  },
  "language_info": {
   "codemirror_mode": {
    "name": "ipython",
    "version": 3
   },
   "file_extension": ".py",
   "mimetype": "text/x-python",
   "name": "python",
   "nbconvert_exporter": "python",
   "pygments_lexer": "ipython3",
   "version": "3.10.9"
  }
 },
 "nbformat": 4,
 "nbformat_minor": 5
}
