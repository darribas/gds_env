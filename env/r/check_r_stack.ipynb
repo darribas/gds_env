{
 "cells": [
  {
   "cell_type": "markdown",
   "metadata": {},
   "source": [
    "# Check `GDS` R stack"
   ]
  },
  {
   "cell_type": "markdown",
   "metadata": {},
   "source": [
    "## Library imports"
   ]
  },
  {
   "cell_type": "markdown",
   "metadata": {},
   "source": [
    "### TidyVerse"
   ]
  },
  {
   "cell_type": "code",
   "execution_count": null,
   "metadata": {},
   "outputs": [],
   "source": [
    "libs <- c('BiocManager',\n",
    "            'devtools',\n",
    "            'rmarkdown',\n",
    "            'tidyverse',\n",
    "            'vroom',\n",
    "            'gert'\n",
    "          )\n",
    "lapply(libs, require, character.only = TRUE)"
   ]
  },
  {
   "cell_type": "markdown",
   "metadata": {},
   "source": [
    "DB backends:"
   ]
  },
  {
   "cell_type": "code",
   "execution_count": null,
   "metadata": {
    "jupyter": {
     "source_hidden": true
    }
   },
   "outputs": [],
   "source": [
    "libs <- c('arrow',\n",
    "            'dbplyr',\n",
    "            'DBI',\n",
    "            'dtplyr',\n",
    "            'RMariaDB',\n",
    "            'RPostgres',\n",
    "            'RSQLite',\n",
    "            'fst'\n",
    "         )\n",
    "available <- lapply(libs, require, character.only = TRUE)   \n",
    "as.data.frame(cbind(\n",
    "    libs, as.vector(available)\n",
    "    )\n",
    ")"
   ]
  },
  {
   "cell_type": "markdown",
   "metadata": {},
   "source": [
    "### Geospatial"
   ]
  },
  {
   "cell_type": "code",
   "execution_count": null,
   "metadata": {},
   "outputs": [],
   "source": [
    "libs <- c('RColorBrewer',\n",
    "            'Randomfields',\n",
    "            'RNetCDF',\n",
    "            'classInt',\n",
    "            'deldir',\n",
    "            'gstat',\n",
    "            'hdf5r',\n",
    "            'lidR',\n",
    "            'mapdata',\n",
    "            'mapview',\n",
    "            'ncdf4',\n",
    "            'proj4',\n",
    "            'raster',\n",
    "            'rlas',\n",
    "            'sf',\n",
    "            'sp',\n",
    "            'spacetime',\n",
    "            'spatstat',\n",
    "            'spatialreg',\n",
    "            'spdep',\n",
    "            'stars',\n",
    "            'tidync',\n",
    "            'tmap',\n",
    "            'geoR',\n",
    "            'geosphere'\n",
    "         )\n",
    "available <- lapply(libs, require, character.only = TRUE)\n",
    "as.data.frame(cbind(\n",
    "    libs, as.vector(available)\n",
    "    )\n",
    ")"
   ]
  },
  {
   "cell_type": "markdown",
   "metadata": {},
   "source": [
    "### Other"
   ]
  },
  {
   "cell_type": "code",
   "execution_count": null,
   "metadata": {},
   "outputs": [],
   "source": [
    "libs <- c('arm',\n",
    "            'deldir',\n",
    "            'feather',\n",
    "            'geojsonio',\n",
    "            'ggmap',\n",
    "            'GISTools',\n",
    "            'hexbin',\n",
    "            'igraph',\n",
    "            'kableExtra',\n",
    "            'knitr',\n",
    "            'lme4',\n",
    "            'nlme',\n",
    "            'randomForest',\n",
    "            'RCurl',\n",
    "            'rpostgis',\n",
    "            'shiny',\n",
    "            'splancs',\n",
    "            'TraMineR',\n",
    "            'tufte'\n",
    "         )\n",
    "lapply(libs, require, character.only = TRUE)"
   ]
  },
  {
   "cell_type": "markdown",
   "metadata": {},
   "source": [
    "## Test"
   ]
  },
  {
   "cell_type": "code",
   "execution_count": null,
   "metadata": {},
   "outputs": [],
   "source": [
    "paste(\n",
    "    'http://darribas.org/gds4ae/', \n",
    "    '_downloads/9366d230310a8a68b2ce6cf2787a2f1c/', \n",
    "    'cambodia_regional.gpkg', \n",
    "    sep=''\n",
    ") %>%\n",
    "download.file('cambodia_regional.gpkg')"
   ]
  },
  {
   "cell_type": "code",
   "execution_count": null,
   "metadata": {},
   "outputs": [],
   "source": [
    "db = st_read('cambodia_regional.gpkg')"
   ]
  },
  {
   "cell_type": "code",
   "execution_count": null,
   "metadata": {},
   "outputs": [],
   "source": [
    "plot(db$geom)"
   ]
  },
  {
   "cell_type": "markdown",
   "metadata": {},
   "source": [
    "```r\n",
    "library(sfarrow)\n",
    "st_write_parquet(db, 'test.pq')\n",
    "```"
   ]
  },
  {
   "cell_type": "code",
   "execution_count": null,
   "metadata": {},
   "outputs": [],
   "source": [
    "unlink('test.pq')\n",
    "unlink('cambodia_regional.gpkg')"
   ]
  },
  {
   "cell_type": "code",
   "execution_count": null,
   "metadata": {},
   "outputs": [],
   "source": [
    "data(World, metro)\n",
    "metro$growth <- (metro$pop2020 - metro$pop2010) / (metro$pop2010 * 10) * 100\n",
    "\n",
    "mapWorld <- tm_shape(World) +\n",
    "    tm_polygons(\"income_grp\", palette=\"-Blues\", contrast=.7, id=\"name\", title=\"Income group\") +\n",
    "    tm_shape(metro) +\n",
    "    tm_bubbles(\"pop2010\", col = \"growth\", \n",
    "               border.col = \"black\", border.alpha = .5, \n",
    "               style=\"fixed\", breaks=c(-Inf, seq(0, 6, by=2), Inf),\n",
    "               palette=\"-RdYlBu\", contrast=1, \n",
    "               title.size=\"Metro population\", \n",
    "               title.col=\"Growth rate (%)\", id=\"name\") + \n",
    "    tm_style(\"gray\") + tm_format(\"World\")\n",
    "\n",
    "mapWorld"
   ]
  }
 ],
 "metadata": {
  "kernelspec": {
   "display_name": "gdsR-11.0alpha",
   "language": "R",
   "name": "ir"
  },
  "language_info": {
   "codemirror_mode": "r",
   "file_extension": ".r",
   "mimetype": "text/x-r-source",
   "name": "R",
   "pygments_lexer": "r",
   "version": "4.3.3"
  }
 },
 "nbformat": 4,
 "nbformat_minor": 4
}
