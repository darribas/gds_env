{
 "cells": [
  {
   "cell_type": "markdown",
   "metadata": {},
   "source": [
    "# Check `dev` stack"
   ]
  },
  {
   "cell_type": "markdown",
   "metadata": {},
   "source": [
    "## `decktape`"
   ]
  },
  {
   "cell_type": "code",
   "execution_count": null,
   "metadata": {},
   "outputs": [],
   "source": [
    "! decktape automatic --chrome-arg=--no-sandbox -s 1280x960 \\\n",
    "    http://darribas.org/gds_course/content/slides/block_D_ii.html \\\n",
    "    slides.pdf"
   ]
  },
  {
   "cell_type": "code",
   "execution_count": null,
   "metadata": {},
   "outputs": [],
   "source": [
    "! rm slides.pdf"
   ]
  },
  {
   "cell_type": "markdown",
   "metadata": {},
   "source": [
    "## `tippecanoe`"
   ]
  },
  {
   "cell_type": "code",
   "execution_count": null,
   "metadata": {},
   "outputs": [],
   "source": [
    "! wget http://darribas.org/gds4ae/_downloads/44b4bc22c042386c2c0f8dc6685ef17c/neighbourhoods.geojson\n",
    "! tippecanoe -o file.mbtiles neighbourhoods.geojson\n",
    "\n",
    "! rm file.mbtiles neighbourhoods.geojson"
   ]
  },
  {
   "cell_type": "markdown",
   "metadata": {},
   "source": [
    "## `texbuild`"
   ]
  },
  {
   "cell_type": "code",
   "execution_count": null,
   "metadata": {
    "tags": []
   },
   "outputs": [],
   "source": [
    "! wget https://github.com/darribas/constitution/raw/gh-pages/_includes/constitution.md \\\n",
    "    -O text.md\n",
    "! pandoc -s text.md -o text.tex\n",
    "! texbuild text.tex"
   ]
  },
  {
   "cell_type": "code",
   "execution_count": null,
   "metadata": {},
   "outputs": [],
   "source": [
    "! rm text.md text.pdf text.tex"
   ]
  },
  {
   "cell_type": "markdown",
   "metadata": {},
   "source": [
    "## `jupyterbook` PDF builder"
   ]
  },
  {
   "cell_type": "code",
   "execution_count": null,
   "metadata": {},
   "outputs": [],
   "source": [
    "! jb create test_book\n",
    "! jb build test_book --builder pdfhtml"
   ]
  },
  {
   "cell_type": "code",
   "execution_count": null,
   "metadata": {},
   "outputs": [],
   "source": [
    "! rm -rf test_book/"
   ]
  },
  {
   "cell_type": "markdown",
   "metadata": {},
   "source": [
    "## `rpy2`\n",
    "\n",
    "Example taken from [here](https://rpy2.github.io/rpy2-arrow/version/main/html/conversion.html#faster-pandas-r-conversions)."
   ]
  },
  {
   "cell_type": "code",
   "execution_count": null,
   "metadata": {},
   "outputs": [],
   "source": [
    "%load_ext rpy2.ipython\n",
    "\n",
    "import pandas as pd\n",
    "\n",
    "# Number or rows in the DataFrame.\n",
    "\n",
    "_N = 500\n",
    "\n",
    "pd_dataf = pd.DataFrame(\n",
    "    {'x': range(_N), 'y': ['abc', 'def'] * (_N//2)}\n",
    ")"
   ]
  },
  {
   "cell_type": "code",
   "execution_count": null,
   "metadata": {},
   "outputs": [],
   "source": [
    "%%R -i pd_dataf\n",
    "\n",
    "rm(pd_dataf)"
   ]
  },
  {
   "cell_type": "code",
   "execution_count": null,
   "metadata": {},
   "outputs": [],
   "source": [
    "import pyarrow\n",
    "from rpy2.robjects.packages import importr\n",
    "import rpy2.robjects.conversion\n",
    "import rpy2.rinterface\n",
    "import rpy2_arrow.pyarrow_rarrow as pyra\n",
    "\n",
    "base = importr('base')\n",
    "\n",
    "# We use the converter included in rpy2-arrow as template.\n",
    "conv = rpy2.robjects.conversion.Converter(\n",
    "    'Pandas to data.frame',\n",
    "    template=pyra.converter\n",
    ")\n",
    "\n",
    "@conv.py2rpy.register(pd.DataFrame)\n",
    "def py2rpy_pandas(dataf):\n",
    "    pa_tbl = pyarrow.Table.from_pandas(dataf)\n",
    "    # pa_tbl is a pyarrow table, and this is something\n",
    "    # that the converter shipping with rpy2-arrow knows\n",
    "    # how to handle.\n",
    "    return base.as_data_frame(pa_tbl)\n",
    "\n",
    "# We build a custom converter that is the default converter\n",
    "# for ipython/jupyter shipping with rpy2, to which we add\n",
    "# rules for Arrow + pandas we just made.\n",
    "conv = rpy2.ipython.rmagic.converter + conv\n"
   ]
  },
  {
   "cell_type": "markdown",
   "metadata": {
    "tags": []
   },
   "source": [
    "# Test content"
   ]
  },
  {
   "cell_type": "markdown",
   "metadata": {},
   "source": [
    "## `gds4ae`"
   ]
  },
  {
   "cell_type": "code",
   "execution_count": null,
   "metadata": {},
   "outputs": [],
   "source": [
    "! wget https://github.com/darribas/gds4ae/archive/refs/heads/master.zip\n",
    "! unzip master.zip\n",
    "! cd gds4ae-master && \\\n",
    "    rm -rf tests && \\\n",
    "\tmkdir tests && \\\n",
    "\tjupyter nbconvert --to notebook \\\n",
    "                      --execute \\\n",
    "                      --output-dir=tests \\\n",
    "                      --ExecutePreprocessor.timeout=600 \\\n",
    "                      --ExecutePreprocessor.ipython_hist_file='' \\\n",
    "                      content/notebooks/*.ipynb\n",
    "! rm -rf gds4ae-master master.zip"
   ]
  },
  {
   "cell_type": "markdown",
   "metadata": {},
   "source": [
    "## `gds_course`"
   ]
  },
  {
   "cell_type": "code",
   "execution_count": null,
   "metadata": {},
   "outputs": [],
   "source": [
    "! wget https://github.com/darribas/gds_course/archive/refs/heads/master.zip\n",
    "! unzip master.zip\n",
    "! cd gds_course-master && \\\n",
    "    make test\n",
    "! rm -rf gds_course-master master.zip"
   ]
  },
  {
   "cell_type": "markdown",
   "metadata": {},
   "source": [
    "## `smds`"
   ]
  },
  {
   "cell_type": "code",
   "execution_count": 7,
   "metadata": {
    "tags": []
   },
   "outputs": [],
   "source": [
    "#! wget https://github.com/GDSL-UL/san/archive/refs/heads/master.zip\n",
    "#! unzip master.zip\n",
    "#! cd san-master && \\\n",
    "#    Rscript -e \"library(bookdown); bookdown::render_book('index.Rmd', 'bookdown::gitbook')\"\n",
    "! rm -rf master.zip san-master"
   ]
  }
 ],
 "metadata": {
  "interpreter": {
   "hash": "d4d1e4263499bec80672ea0156c357c1ee493ec2b1c70f0acce89fc37c4a6abe"
  },
  "kernelspec": {
   "display_name": "Python 3 (ipykernel)",
   "language": "python",
   "name": "python3"
  },
  "language_info": {
   "codemirror_mode": {
    "name": "ipython",
    "version": 3
   },
   "file_extension": ".py",
   "mimetype": "text/x-python",
   "name": "python",
   "nbconvert_exporter": "python",
   "pygments_lexer": "ipython3",
   "version": "3.9.7"
  }
 },
 "nbformat": 4,
 "nbformat_minor": 4
}
